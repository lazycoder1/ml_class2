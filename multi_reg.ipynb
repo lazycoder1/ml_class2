{
 "metadata": {
  "kernelspec": {
   "display_name": "Python 3",
   "language": "python",
   "name": "python3"
  },
  "language_info": {
   "codemirror_mode": {
    "name": "ipython",
    "version": 3
   },
   "file_extension": ".py",
   "mimetype": "text/x-python",
   "name": "python",
   "nbconvert_exporter": "python",
   "pygments_lexer": "ipython3",
   "version": "3.5.3"
  },
  "name": "",
  "signature": "sha256:fd9f67efbb530c2bc17178dfb3e381ce3c4179544643f18799e2840d9394af95"
 },
 "nbformat": 3,
 "nbformat_minor": 0,
 "worksheets": [
  {
   "cells": [
    {
     "cell_type": "code",
     "collapsed": false,
     "input": [
      "from numpy import *\n",
      "from math import log"
     ],
     "language": "python",
     "metadata": {},
     "outputs": []
    },
    {
     "cell_type": "code",
     "collapsed": false,
     "input": [
      "def convert_to_sign(a_old):\n",
      "    a=[]\n",
      "    for i in range(len(a_old)):\n",
      "        if a_old[i] > 0:\n",
      "            a.append(1)\n",
      "        elif a_old[i] < 0:\n",
      "            a.append(-1)\n",
      "        else :\n",
      "            a.append(0)\n",
      "    return a\n",
      "        \n",
      "# y = mx + b\n",
      "# m is slope, b is y-intercept\n",
      "def compute_error_for_line_given_points(a, points):\n",
      "    totalError = 0\n",
      "    for i in range(0, len(points)):\n",
      "        x = points[i, 0]\n",
      "        y = points[i, 1]\n",
      "        totalError += (y - (a[0]*x**2+a[1]*x+a[2]*log(x)+a[3])) ** 2\n",
      "    return totalError / float(len(points))\n",
      "\n",
      "def step_gradient(a_current, points, learningRate):\n",
      "    a = [0]*4\n",
      "    N = float(len(points))\n",
      "    for i in range(0, len(points)):\n",
      "        x = points[i, 0]\n",
      "        y = points[i, 1]\n",
      "        \n",
      "        a[0] += -(2/N)*(y-(x**2)*(a_current[0]*x**2+a_current[1]*x+a_current[2]*log(x)+a_current[3]))\n",
      "        a[1] += -(2/N)*(y-(x)*(a_current[0]*x**2+a_current[1]*x+a_current[2]*log(x)+a_current[3]))\n",
      "        a[2] += -(2/N)*(y-(log(x))*(a_current[0]*x**2+a_current[1]*x+a_current[2]*log(x)+a_current[3]))\n",
      "        a[3] += -(2/N)*(y-(a_current[0]*x**2+a_current[1]*x+a_current[2]*log(x)+a_current[3]))\n",
      "        \n",
      "    a = convert_to_sign(a)\n",
      "    new_a = []\n",
      "    for i in range(len(a)):\n",
      "#         if i==1:\n",
      "#             new_a.append(a_current[i] - (learningRate  * a[i]))\n",
      "#             continue\n",
      "        new_a.append(a_current[i] - (learningRate * a[i]))\n",
      "\n",
      "    return new_a\n",
      "\n",
      "def gradient_descent_runner(points, starting_a, learning_rate, num_iterations):\n",
      "    a = starting_a\n",
      "    for i in range(num_iterations):\n",
      "        a = step_gradient(a, array(points), learning_rate)\n",
      "    return a\n",
      "\n",
      "def run():\n",
      "    points = genfromtxt(\"find_pattern_MLClass_2.csv\", delimiter=\",\")\n",
      "    learning_rate = 0.01\n",
      "    initial_a=[0]*4\n",
      "\n",
      "    num_iterations = 1000\n",
      "    print(\"Starting gradient descent at a = \",initial_a,\" error:\",compute_error_for_line_given_points(initial_a, points))\n",
      "    print(\"Running...\")\n",
      "    variables = gradient_descent_runner(points, initial_a, learning_rate, num_iterations)\n",
      "    print(\"After {0} iterations a = {1}, error = {2}\".format(num_iterations, str(variables), compute_error_for_line_given_points(variables, points)))\n",
      "\n",
      "if __name__ == '__main__':\n",
      "    run()"
     ],
     "language": "python",
     "metadata": {},
     "outputs": [
      {
       "output_type": "stream",
       "stream": "stdout",
       "text": [
        "('Starting gradient descent at a = ', [0, 0, 0, 0], ' error:', 8151525429.5617981)\n",
        "Running...\n",
        "After 1000 iterations a = [0.0, 0.04, 9.959999999999832, 9.999999999999831], error = 8126337413.21"
       ]
      },
      {
       "output_type": "stream",
       "stream": "stdout",
       "text": [
        "\n"
       ]
      }
     ],
     "prompt_number": 17
    },
    {
     "cell_type": "code",
     "collapsed": true,
     "input": [],
     "language": "python",
     "metadata": {},
     "outputs": [],
     "prompt_number": null
    }
   ],
   "metadata": {}
  }
 ]
}