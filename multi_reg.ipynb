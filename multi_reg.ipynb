{
 "cells": [
  {
   "cell_type": "code",
   "execution_count": 2,
   "metadata": {},
   "outputs": [
    {
     "name": "stderr",
     "output_type": "stream",
     "text": [
      "/home/gautam/anaconda3/lib/python3.5/site-packages/matplotlib/font_manager.py:280: UserWarning: Matplotlib is building the font cache using fc-list. This may take a moment.\n",
      "  'Matplotlib is building the font cache using fc-list. '\n"
     ]
    }
   ],
   "source": [
    "from numpy import *\n",
    "from math import log\n",
    "import matplotlib.pyplot as plt"
   ]
  },
  {
   "cell_type": "code",
   "execution_count": 118,
   "metadata": {},
   "outputs": [
    {
     "name": "stdout",
     "output_type": "stream",
     "text": [
      "Starting gradient descent at a =  [0.05, -44, 5200, 1700]  error: 36970046.4729\n",
      "Running...\n",
      "After 10000 iterations a = [0.04839999999999996, -45.20000000000002, 5234.800000000127, 1785.1999999999225], error = 2999766.856865331\n"
     ]
    }
   ],
   "source": [
    "b=[]\n",
    "def convert_to_sign(a_old):\n",
    "    a=[]\n",
    "    for i in range(len(a_old)):\n",
    "        if a_old[i] > 0:\n",
    "            a.append(1)\n",
    "        elif a_old[i] < 0:\n",
    "            a.append(-1)\n",
    "        else :\n",
    "            a.append(0)\n",
    "    return a\n",
    "        \n",
    "# y = mx + b\n",
    "# m is slope, b is y-intercept\n",
    "def compute_error_for_line_given_points(a, points):\n",
    "    totalError = 0\n",
    "    for i in range(0, len(points)):\n",
    "        x = points[i, 0]\n",
    "        y = points[i, 1]\n",
    "        totalError += (y - (a[0]*x**2+a[1]*x+a[2]*log(x)+a[3])) ** 2\n",
    "    return totalError / float(len(points))\n",
    "\n",
    "def step_gradient(a_current, points, learningRate):\n",
    "    a = [0]*4\n",
    "    N = float(len(points))\n",
    "    for i in range(0, len(points)):\n",
    "        x = points[i, 0]\n",
    "        y = points[i, 1]\n",
    "        \n",
    "        a[0] += -(2/N)*(x**2)*(y-(a_current[0]*x**2+a_current[1]*x+a_current[2]*log(x)+a_current[3]))\n",
    "        a[1] += -(2/N)*x*(y-(a_current[0]*x**2+a_current[1]*x+a_current[2]*log(x)+a_current[3]))\n",
    "        a[2] += -(2/N)*log(x)*(y-(a_current[0]*x**2+a_current[1]*x+a_current[2]*log(x)+a_current[3]))\n",
    "        a[3] += -(2/N)*(y-(a_current[0]*x**2+a_current[1]*x+a_current[2]*log(x)+a_current[3]))\n",
    "        \n",
    "    a = convert_to_sign(a)\n",
    "    new_a = []\n",
    "\n",
    "    new_a.append(a_current[0] - (learningRate * 0.0001 * a[0]))\n",
    "    new_a.append(a_current[1] - (learningRate * 0.1 * a[1]))\n",
    "    new_a.append(a_current[2] - (learningRate * 0.1 *a[2]))\n",
    "    new_a.append(a_current[3] - (learningRate * 0.1 *a[3]))\n",
    "\n",
    "    return new_a\n",
    "\n",
    "def gradient_descent_runner(points, starting_a, learning_rate, num_iterations):\n",
    "    a = starting_a\n",
    "    for i in range(num_iterations):\n",
    "        a = step_gradient(a, array(points), learning_rate)\n",
    "    return a\n",
    "\n",
    "def run():\n",
    "    points = genfromtxt(\"find_pattern_MLClass_2.csv\", delimiter=\",\")\n",
    "    learning_rate = 1\n",
    "    initial_a=[0.05,-44,5200,1700]\n",
    "\n",
    "    num_iterations = 10000\n",
    "    print(\"Starting gradient descent at a = \",initial_a,\" error:\",compute_error_for_line_given_points(initial_a, points))\n",
    "    print(\"Running...\")\n",
    "    variables = gradient_descent_runner(points, initial_a, learning_rate, num_iterations)\n",
    "    print(\"After {0} iterations a = {1}, error = {2}\".format(num_iterations, str(variables), compute_error_for_line_given_points(variables, points)))\n",
    "    global b\n",
    "    b=variables\n",
    "if __name__ == '__main__':\n",
    "    run()   "
   ]
  },
  {
   "cell_type": "code",
   "execution_count": 119,
   "metadata": {},
   "outputs": [
    {
     "name": "stdout",
     "output_type": "stream",
     "text": [
      "(801,) (801,)\n"
     ]
    },
    {
     "data": {
      "image/png": "[encoded data removed]",
      "text/plain": [
       "<matplotlib.figure.Figure at 0x7f92808275c0>"
      ]
     },
     "metadata": {},
     "output_type": "display_data"
    }
   ],
   "source": [
    "# b[0]=0.015\n",
    "# b[1]=-50\n",
    "# b[2]=5000\n",
    "# b[3]=1000\n",
    "def func(x,a):\n",
    "    return [a[0]*y**2+a[1]*y+a[2]*log(y)+a[3] for y in x]\n",
    "plt.plot(x,y,'b')\n",
    "print(shape(x),shape(func(x,b)))\n",
    "plt.plot(x,func(x,b),'r')\n",
    "# plt.axis([0,1200,0,100000])\n",
    "plt.show()"
   ]
  },
  {
   "cell_type": "code",
   "execution_count": 117,
   "metadata": {},
   "outputs": [
    {
     "data": {
      "text/plain": [
       "1762.473829592939"
      ]
     },
     "execution_count": 117,
     "metadata": {},
     "output_type": "execute_result"
    }
   ],
   "source": [
    "import math\n",
    "math.sqrt(3106314)"
   ]
  },
  {
   "cell_type": "code",
   "execution_count": 108,
   "metadata": {},
   "outputs": [
    {
     "name": "stdout",
     "output_type": "stream",
     "text": [
      "0\n"
     ]
    }
   ],
   "source": [
    "a = 1\n",
    "a += -1\n",
    "print(a)\n",
    " "
   ]
  },
  {
   "cell_type": "code",
   "execution_count": 10,
   "metadata": {
    "collapsed": true
   },
   "outputs": [],
   "source": [
    "import pandas as pd"
   ]
  },
  {
   "cell_type": "code",
   "execution_count": 48,
   "metadata": {},
   "outputs": [
    {
     "data": {
      "text/plain": [
       "130796.611576367"
      ]
     },
     "execution_count": 48,
     "metadata": {},
     "output_type": "execute_result"
    }
   ],
   "source": [
    "2000**1.55 "
   ]
  },
  {
   "cell_type": "code",
   "execution_count": null,
   "metadata": {
    "collapsed": true
   },
   "outputs": [],
   "source": []
  }
 ],
 "metadata": {
  "kernelspec": {
   "display_name": "Python 3",
   "language": "python",
   "name": "python3"
  },
  "language_info": {
   "codemirror_mode": {
    "name": "ipython",
    "version": 3
   },
   "file_extension": ".py",
   "mimetype": "text/x-python",
   "name": "python",
   "nbconvert_exporter": "python",
   "pygments_lexer": "ipython3",
   "version": "3.5.3"
  }
 },
 "nbformat": 4,
 "nbformat_minor": 1
}
