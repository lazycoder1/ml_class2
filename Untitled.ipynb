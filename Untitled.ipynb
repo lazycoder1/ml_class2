{
 "cells": [
  {
   "cell_type": "code",
   "execution_count": 24,
   "metadata": {},
   "outputs": [
    {
     "name": "stdout",
     "output_type": "stream",
     "text": [
      "Starting gradient descent at a =  [0, 0, 0, 0]  error: 8151525429.56\n",
      "Running...\n",
      "After 1000 iterations a = [0.0, 0.0, 0.0, 0.0], error = 8151525429.561798\n"
     ]
    }
   ],
   "source": [
    "#The optimal values of m and b can be actually calculated with way less effort than doing a linear regression. \n",
    "#this is just to demonstrate gradient descent\n",
    "\n",
    "from numpy import *\n",
    "from math import log\n",
    "\n",
    "def convert_to_sign(a_old):\n",
    "    a=[]\n",
    "    for i in range(len(a_old)):\n",
    "        if a_old[i] > 0:\n",
    "            a.append(500)\n",
    "        elif a_old[i] < 0:\n",
    "            a.append(-500)\n",
    "        else :\n",
    "            a.append(0)\n",
    "    return a\n",
    "        \n",
    "# y = mx + b\n",
    "# m is slope, b is y-intercept\n",
    "def compute_error_for_line_given_points(a, points):\n",
    "    totalError = 0\n",
    "    for i in range(0, len(points)):\n",
    "        x = points[i, 0]\n",
    "        y = points[i, 1]\n",
    "        totalError += (y - (a[0]*x**2+a[1]*x+a[2]*log(x)+a[3])) ** 2\n",
    "    return totalError / float(len(points))\n",
    "\n",
    "def step_gradient(a_current, points, learningRate):\n",
    "    a = [0]*4\n",
    "    N = float(len(points))\n",
    "    for i in range(0, len(points)):\n",
    "        x = points[i, 0]\n",
    "        y = points[i, 1]\n",
    "        \n",
    "        a[0] += -(2/N)*(y-(2*x**2)*(a_current[0]*x**2+a_current[1]*x+a_current[2]*log(x)+a_current[3]))\n",
    "        a[1] += -(2/N)*(y-(2*x)*(a_current[0]*x**2+a_current[1]*x+a_current[2]*log(x)+a_current[3]))\n",
    "        a[2] += -(2/N)*(y-(2*log(x))*(a_current[0]*x**2+a_current[1]*x+a_current[2]*log(x)+a_current[3]))\n",
    "        a[3] += -(2/N)*(y-(2)*(a_current[0]*x**2+a_current[1]*x+a_current[2]*log(x)+a_current[3]))\n",
    "        \n",
    "    a = convert_to_sign(a)\n",
    "    new_a = []\n",
    "    for i in range(len(a)):\n",
    "        new_a.append(a_current[i] - (learningRate * a[i]))\n",
    "\n",
    "    return new_a\n",
    "\n",
    "def gradient_descent_runner(points, starting_a, learning_rate, num_iterations):\n",
    "    a = starting_a\n",
    "    for i in range(num_iterations):\n",
    "        a = step_gradient(a, array(points), learning_rate)\n",
    "    return a\n",
    "\n",
    "def run():\n",
    "    points = genfromtxt(\"/home/gautam/Downloads/find_pattern_MLClass_2.csv\", delimiter=\",\")\n",
    "    learning_rate = 0.0001\n",
    "    initial_a=[]\n",
    "    initial_a.append(0) # initial y-intercept guess\n",
    "    initial_a.append(0) # initial slope guess\n",
    "    initial_a.append(0) # initial slope guess\n",
    "    initial_a.append(0) # initial slope guess\n",
    "    num_iterations = 1000\n",
    "    print(\"Starting gradient descent at a = \",initial_a,\" error:\",compute_error_for_line_given_points(initial_a, points))\n",
    "    print(\"Running...\")\n",
    "    variables = gradient_descent_runner(points, initial_a, learning_rate, num_iterations)\n",
    "    print(\"After {0} iterations a = {1}, error = {2}\".format(num_iterations, str(variables), compute_error_for_line_given_points(variables, points)))\n",
    "\n",
    "if __name__ == '__main__':\n",
    "    run()"
   ]
  },
  {
   "cell_type": "code",
   "execution_count": null,
   "metadata": {
    "collapsed": true
   },
   "outputs": [],
   "source": []
  }
 ],
 "metadata": {
  "kernelspec": {
   "display_name": "Python 3",
   "language": "python",
   "name": "python3"
  },
  "language_info": {
   "codemirror_mode": {
    "name": "ipython",
    "version": 3
   },
   "file_extension": ".py",
   "mimetype": "text/x-python",
   "name": "python",
   "nbconvert_exporter": "python",
   "pygments_lexer": "ipython3",
   "version": "3.5.3"
  }
 },
 "nbformat": 4,
 "nbformat_minor": 2
}
